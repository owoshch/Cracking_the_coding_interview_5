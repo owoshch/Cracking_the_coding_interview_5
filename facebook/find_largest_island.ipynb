{
 "cells": [
  {
   "cell_type": "code",
   "execution_count": 2,
   "metadata": {},
   "outputs": [],
   "source": [
    "test_input = [[1, 1, 0, 1, 0],\n",
    "              [1, 0, 0, 1, 0],\n",
    "              [1, 1, 0, 1, 1],\n",
    "              [0, 0, 1, 1, 1]]"
   ]
  },
  {
   "cell_type": "code",
   "execution_count": 3,
   "metadata": {},
   "outputs": [
    {
     "name": "stdout",
     "output_type": "stream",
     "text": [
      "[1, 1, 0, 1, 0]\n",
      "[1, 0, 0, 1, 0]\n",
      "[1, 1, 0, 1, 1]\n",
      "[0, 0, 1, 1, 1]\n"
     ]
    }
   ],
   "source": [
    "for line in test_input:\n",
    "    print (line)"
   ]
  },
  {
   "cell_type": "code",
   "execution_count": 124,
   "metadata": {},
   "outputs": [],
   "source": [
    "def border_checker(matrix, cur_i, cur_j):\n",
    "    number_of_rows = len(matrix)\n",
    "    number_of_columns = len(matrix[0])\n",
    "    return cur_i < number_of_rows and cur_i >= 0 and \\\n",
    "            cur_j < number_of_columns and cur_j >= 0"
   ]
  },
  {
   "cell_type": "code",
   "execution_count": 125,
   "metadata": {},
   "outputs": [],
   "source": [
    "def DFS(matrix, i, j, cur_island):\n",
    "    #print ('cur_island', cur_island)\n",
    "    matrix[i][j] = -1\n",
    "    vertical_shift = [1, -1, 0, 0]\n",
    "    horizontal_shift = [0, 0, -1, 1]\n",
    "    for i_shift, j_shift in zip(vertical_shift, horizontal_shift):\n",
    "        cur_i = i + i_shift\n",
    "        cur_j = j + j_shift\n",
    "        if border_checker(matrix, cur_i, cur_j) and matrix[cur_i][cur_j] == 1:\n",
    "            cur_island = DFS(matrix, cur_i, cur_j, cur_island + 1) \n",
    "            #print ('assigned cur island', cur_island)\n",
    "    return cur_island "
   ]
  },
  {
   "cell_type": "code",
   "execution_count": 126,
   "metadata": {},
   "outputs": [],
   "source": [
    "def find_largest_island(matrix):\n",
    "    number_of_rows = len(matrix)\n",
    "    number_of_columns = len(matrix[0])\n",
    "    max_island = 0\n",
    "    for i in range(number_of_rows):\n",
    "        for j in range(number_of_columns):\n",
    "            if matrix[i][j] == 1:\n",
    "                cur_island = 1\n",
    "                cur_island = DFS(matrix, i, j, cur_island)\n",
    "                #print ('main cur island', cur_island)\n",
    "                if cur_island > max_island:\n",
    "                    max_island = cur_island\n",
    "    return max_island"
   ]
  },
  {
   "cell_type": "code",
   "execution_count": 127,
   "metadata": {},
   "outputs": [
    {
     "data": {
      "text/plain": [
       "0"
      ]
     },
     "execution_count": 127,
     "metadata": {},
     "output_type": "execute_result"
    }
   ],
   "source": [
    "find_largest_island([[0]])"
   ]
  },
  {
   "cell_type": "code",
   "execution_count": 128,
   "metadata": {},
   "outputs": [
    {
     "data": {
      "text/plain": [
       "1"
      ]
     },
     "execution_count": 128,
     "metadata": {},
     "output_type": "execute_result"
    }
   ],
   "source": [
    "find_largest_island([[1]])"
   ]
  },
  {
   "cell_type": "code",
   "execution_count": 129,
   "metadata": {},
   "outputs": [
    {
     "data": {
      "text/plain": [
       "2"
      ]
     },
     "execution_count": 129,
     "metadata": {},
     "output_type": "execute_result"
    }
   ],
   "source": [
    "find_largest_island([[1, 1]])"
   ]
  },
  {
   "cell_type": "code",
   "execution_count": 130,
   "metadata": {},
   "outputs": [
    {
     "data": {
      "text/plain": [
       "4"
      ]
     },
     "execution_count": 130,
     "metadata": {},
     "output_type": "execute_result"
    }
   ],
   "source": [
    "find_largest_island([[1, 1],\n",
    "                    [1, 1]])"
   ]
  },
  {
   "cell_type": "code",
   "execution_count": 131,
   "metadata": {},
   "outputs": [
    {
     "data": {
      "text/plain": [
       "7"
      ]
     },
     "execution_count": 131,
     "metadata": {},
     "output_type": "execute_result"
    }
   ],
   "source": [
    "find_largest_island(test_input)"
   ]
  },
  {
   "cell_type": "code",
   "execution_count": null,
   "metadata": {},
   "outputs": [],
   "source": []
  }
 ],
 "metadata": {
  "kernelspec": {
   "display_name": "Python 3",
   "language": "python",
   "name": "python3"
  },
  "language_info": {
   "codemirror_mode": {
    "name": "ipython",
    "version": 3
   },
   "file_extension": ".py",
   "mimetype": "text/x-python",
   "name": "python",
   "nbconvert_exporter": "python",
   "pygments_lexer": "ipython3",
   "version": "3.5.4"
  }
 },
 "nbformat": 4,
 "nbformat_minor": 2
}
