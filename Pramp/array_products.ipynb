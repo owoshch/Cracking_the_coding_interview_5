{
 "cells": [
  {
   "cell_type": "markdown",
   "metadata": {},
   "source": [
    "# Array of Array Products\n",
    "Given an array of integers arr, you’re asked to calculate for each index i the product of all integers except the integer at that index (i.e. except arr[i]). Implement a function arrayOfArrayProducts that takes an array of integers and returns an array of the products.\n",
    "\n",
    "Solve without using division and analyze your solution’s time and space complexities."
   ]
  },
  {
   "cell_type": "markdown",
   "metadata": {},
   "source": [
    "## My solution"
   ]
  },
  {
   "cell_type": "code",
   "execution_count": 20,
   "metadata": {},
   "outputs": [],
   "source": [
    "def array_of_array_products(arr):\n",
    "  if len(arr) <= 1:\n",
    "    return []\n",
    "  left = [1]\n",
    "  for number in arr[:-1]:\n",
    "    left.append(left[-1] * number)\n",
    "  #print (left)\n",
    "  \n",
    "  right = [1]\n",
    "  for number in arr[1:][::-1]:\n",
    "    right.append(right[-1] * number)\n",
    "  #print (right)\n",
    "  \n",
    "  result = []\n",
    "  for left_value, right_value in zip(left, right[::-1]):\n",
    "    result.append(left_value * right_value)\n",
    "  #print (result)\n",
    "  return result"
   ]
  },
  {
   "cell_type": "markdown",
   "metadata": {},
   "source": [
    "# Editorial solution"
   ]
  },
  {
   "cell_type": "code",
   "execution_count": null,
   "metadata": {},
   "outputs": [],
   "source": []
  }
 ],
 "metadata": {
  "kernelspec": {
   "display_name": "Python 3",
   "language": "python",
   "name": "python3"
  },
  "language_info": {
   "codemirror_mode": {
    "name": "ipython",
    "version": 3
   },
   "file_extension": ".py",
   "mimetype": "text/x-python",
   "name": "python",
   "nbconvert_exporter": "python",
   "pygments_lexer": "ipython3",
   "version": "3.5.4"
  }
 },
 "nbformat": 4,
 "nbformat_minor": 2
}
