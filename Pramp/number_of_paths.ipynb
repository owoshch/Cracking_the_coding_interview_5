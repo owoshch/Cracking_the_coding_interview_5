{
 "cells": [
  {
   "cell_type": "markdown",
   "metadata": {},
   "source": [
    "## Original solution"
   ]
  },
  {
   "cell_type": "code",
   "execution_count": 1,
   "metadata": {},
   "outputs": [],
   "source": [
    "def num_of_paths_to_dest(n):\n",
    "  if n == 1:\n",
    "    return 1\n",
    "  return number_of_paths_helper(0, 0, n-1, n-1, 0)\n",
    "\n",
    "\n",
    "def number_of_paths_helper(start_x, start_y, final_x, final_y, number_of_paths):\n",
    "  if start_x == n - 1 and start_y == n - 1:\n",
    "    number_of_paths += 1\n",
    "  x_shift = [0, 1]\n",
    "  y_shift = [1, 0]\n",
    "  for i, j in zip(x_shift, y_shift):\n",
    "    cur_x = start_x + x_shift\n",
    "    cur_y = start_y + y_shift\n",
    "    if cur_x >= cur_y:\n",
    "      number_of_paths = number_of_paths_helper(cur_x, cur_y, final_x, final_y, number_of_paths)\n",
    "  \n",
    "  return  number_of_paths\n",
    "\n",
    "#n = 4\n",
    "\n",
    "# “EEENNN”, “EENENN”, “ENEENN”, “ENENEN”, “EENNEN”"
   ]
  },
  {
   "cell_type": "markdown",
   "metadata": {},
   "source": [
    "## Working solution"
   ]
  },
  {
   "cell_type": "code",
   "execution_count": 16,
   "metadata": {},
   "outputs": [],
   "source": [
    "def num_of_paths_to_dest(n):\n",
    "  #indicate uncalculated squares with -1\n",
    "  memorization_array = [[-1] * n for _ in range(n)]\n",
    "  print ('len', len(memorization_array))\n",
    "  print ('width', len(memorization_array[0]))\n",
    "  return num_of_paths_to_square(n-1, n-1, memorization_array)\n",
    "\n",
    "\n",
    "def num_of_paths_to_square(i, j, memorization_array):\n",
    "  if i < 0 or j < 0:\n",
    "    print ('a')\n",
    "    return 0\n",
    "  elif i < j: # not i >= j, we are above the diagonal\n",
    "    memorization_array[i][j] = 0\n",
    "    print ('b')\n",
    "  elif memorization_array[i][j] != -1:\n",
    "    return memorization_array[i][j]\n",
    "    print ('c')\n",
    "  elif i == 0 and j == 0:\n",
    "    memorization_array[i][j] = 1\n",
    "    print ('d')\n",
    "  else:\n",
    "    memorization_array[i][j] = num_of_paths_to_square(i, j - 1, memorization_array) + \\\n",
    "                                  num_of_paths_to_square(i - 1, j, memorization_array)\n",
    "    print ('e')\n",
    "  print ('f')\n",
    "  return memorization_array[i][j]"
   ]
  },
  {
   "cell_type": "code",
   "execution_count": 17,
   "metadata": {},
   "outputs": [
    {
     "name": "stdout",
     "output_type": "stream",
     "text": [
      "len 1\n",
      "width 1\n",
      "d\n",
      "f\n"
     ]
    },
    {
     "data": {
      "text/plain": [
       "1"
      ]
     },
     "execution_count": 17,
     "metadata": {},
     "output_type": "execute_result"
    }
   ],
   "source": [
    "num_of_paths_to_dest(1)"
   ]
  },
  {
   "cell_type": "code",
   "execution_count": null,
   "metadata": {},
   "outputs": [],
   "source": []
  }
 ],
 "metadata": {
  "kernelspec": {
   "display_name": "Python 3",
   "language": "python",
   "name": "python3"
  },
  "language_info": {
   "codemirror_mode": {
    "name": "ipython",
    "version": 3
   },
   "file_extension": ".py",
   "mimetype": "text/x-python",
   "name": "python",
   "nbconvert_exporter": "python",
   "pygments_lexer": "ipython3",
   "version": "3.5.4"
  }
 },
 "nbformat": 4,
 "nbformat_minor": 2
}
