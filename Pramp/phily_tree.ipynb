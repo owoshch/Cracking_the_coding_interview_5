{
 "cells": [
  {
   "cell_type": "raw",
   "metadata": {},
   "source": [
    "Given a root of a Binary Search Tree (BST) and a number num, implement an efficient function findLargestSmallerKey that finds the largest key in the tree that is smaller than num. If such a number doesn’t exist, return -1. Assume that all keys in the tree are nonnegative.\n",
    "\n",
    "Analyze the time and space complexities of your solution.\n",
    "\n",
    "For example:\n",
    "\n",
    "For num = 17 and the binary search tree below:\n"
   ]
  },
  {
   "cell_type": "raw",
   "metadata": {},
   "source": [
    "'''\n",
    "  def find_largest_smaller_key(self, root, num, cur_output=-1):\n",
    "    if root is None and cur_output == -1:\n",
    "      return -1\n",
    "    else: #if root is not NOne\n",
    "      if self.root.key < num: #possible solution is on the right\n",
    "        cur_output = root.key\n",
    "        cur_output = self.find_largest_smaller_key(root.right, num, cur_output)\n",
    "      else: #root.key > num that means that we may have possible solution in left subtree\n",
    "        cur_output = self.find_largest_smaller_key(root.left, num, cur_output)\n",
    "        \n",
    "    \n",
    "    return cur_output\n",
    "'''"
   ]
  },
  {
   "cell_type": "code",
   "execution_count": 47,
   "metadata": {},
   "outputs": [
    {
     "data": {
      "text/plain": [
       "'\\nbst  = BinarySearchTree()\\n \\n# Create the tree given in the above diagram \\nbst.insert(20)\\nbst.insert(9);\\nbst.insert(25);\\nbst.insert(5);\\nbst.insert(12);\\nbst.insert(11);  \\nbst.insert(14);    \\n\\nresult = bst.find_largest_smaller_key(17)\\n\\nprint (\"Largest smaller number is %d \" %(result))\\n'"
      ]
     },
     "execution_count": 47,
     "metadata": {},
     "output_type": "execute_result"
    }
   ],
   "source": [
    "#########################################################\n",
    "# CODE INSTRUCTIONS:                                     #\n",
    "# 1) The method findLargestSmallerKey you're asked       #\n",
    "#    to implement is located at line 30.                 #\n",
    "# 2) Use the helper code below to implement it.          #\n",
    "# 3) In a nutshell, the helper code allows you to        #\n",
    "#    to build a Binary Search Tree.                      #\n",
    "# 4) Jump to line 71 to see an example for how the       #\n",
    "#    helper code is used to test findLargestSmallerKey.  #\n",
    "##########################################################\n",
    "# Can you hear me?\n",
    "\n",
    " # Bruteforce:\n",
    " # In-order traversal\n",
    "# stop when found a neccessary number\n",
    "\n",
    "\n",
    "# A node \n",
    "class Node:\n",
    "\n",
    "# Constructor to create a new node\n",
    "    def __init__(self, key):\n",
    "        self.key = key\n",
    "        self.left = None\n",
    "        self.right = None\n",
    "        self.parent = None\n",
    "\n",
    "# A binary search tree \n",
    "class BinarySearchTree:\n",
    "\n",
    "  # Constructor to create a new BST\n",
    "    def __init__(self):\n",
    "        self.root = None\n",
    "\n",
    "                \n",
    "    def in_order_traversal(self, root, buffer = []):\n",
    "        if root is not None:\n",
    "            buffer = self.in_order_traversal(root.left, buffer)\n",
    "            buffer.append(root.key)\n",
    "            buffer = self.in_order_traversal(root.right, buffer)\n",
    "        return buffer\n",
    "    \n",
    "    def find_largest_smaller_key(self, num):\n",
    "        keys = self.in_order_traversal(self.root, buffer = [])\n",
    "        print (keys)\n",
    "        print ('size of tree:', len(keys))\n",
    "        cur_output = -1\n",
    "        for value in keys:\n",
    "            if value < num:\n",
    "                cur_output = value\n",
    "            else: #if value > num\n",
    "                return cur_output\n",
    "        return cur_output\n",
    "   \n",
    "\n",
    "\n",
    "    def find_largest_smaller_key_fast(self, num):\n",
    "        cur_output = -1\n",
    "        cur_node = self.root\n",
    "        while cur_node.key < num:\n",
    "            cur_output = cur_node.key\n",
    "            cur_node = cur_node.right\n",
    "        if cur_output != -1:\n",
    "            while cur_node.left and cur_node.left.key > num:\n",
    "                cur_node = cur_node.left\n",
    "            if cur_node.left and cur_node.left < num:\n",
    "                cur_output = cur_node.left.key\n",
    "        return cur_output\n",
    "            \n",
    "    def find_editorial(self, num):\n",
    "        cur_output = -1\n",
    "        cur_node = self.root\n",
    "        while cur_node:\n",
    "            if cur_node.key < num:\n",
    "                cur_output = cur_node.key\n",
    "                cur_node = cur_node.right\n",
    "            else:\n",
    "                cur_node = cur_node.left\n",
    "        return cur_output\n",
    "            \n",
    "        \n",
    "\n",
    "  # Given a binary search tree and a number, inserts a\n",
    "  # new node with the given number in the correct place\n",
    "  # in the tree. Returns the new root pointer which the\n",
    "  # caller should then use(the standard trick to avoid\n",
    "  # using reference parameters)\n",
    "    def insert(self, key):\n",
    "\n",
    "      # 1) If tree is empty, create the root\n",
    "        if (self.root is None):\n",
    "            self.root = Node(key)\n",
    "            return\n",
    "\n",
    "      # 2) Otherwise, create a node with the key\n",
    "      #    and traverse down the tree to find where to\n",
    "      #    to insert the new node\n",
    "        currentNode = self.root\n",
    "        newNode = Node(key)\n",
    "\n",
    "        while(currentNode is not None):\n",
    "            if(key < currentNode.key):\n",
    "                if(currentNode.left is None):\n",
    "                    currentNode.left = newNode\n",
    "                    newNode.parent = currentNode\n",
    "                    break\n",
    "                else:\n",
    "                    currentNode = currentNode.left\n",
    "            else:\n",
    "                if(currentNode.right is None):\n",
    "                    currentNode.right = newNode\n",
    "                    newNode.parent = currentNode\n",
    "                    break\n",
    "                else:\n",
    "                    currentNode = currentNode.right\n",
    "'''\n",
    "bst  = BinarySearchTree()\n",
    " \n",
    "# Create the tree given in the above diagram \n",
    "bst.insert(20)\n",
    "bst.insert(9);\n",
    "bst.insert(25);\n",
    "bst.insert(5);\n",
    "bst.insert(12);\n",
    "bst.insert(11);  \n",
    "bst.insert(14);    \n",
    "\n",
    "result = bst.find_largest_smaller_key(17)\n",
    "\n",
    "print (\"Largest smaller number is %d \" %(result))\n",
    "'''"
   ]
  },
  {
   "cell_type": "code",
   "execution_count": 48,
   "metadata": {},
   "outputs": [],
   "source": [
    "def in_order(root):\n",
    "    if root is not None:\n",
    "        in_order(root.left)\n",
    "        print (root.key)\n",
    "        in_order(root.right)\n",
    "    return None"
   ]
  },
  {
   "cell_type": "code",
   "execution_count": 49,
   "metadata": {},
   "outputs": [],
   "source": [
    "def in_order_to_list(root, output=[]):\n",
    "    if root is not None:\n",
    "        in_order_to_list(root.left, output)\n",
    "        output.append(root.key)\n",
    "        in_order_to_list(root.right, output)\n",
    "    return output"
   ]
  },
  {
   "cell_type": "code",
   "execution_count": 50,
   "metadata": {},
   "outputs": [],
   "source": [
    "######################################### \n",
    "# Driver program to test above function #\n",
    "#########################################\n",
    "\n",
    "bst  = BinarySearchTree()\n",
    " \n",
    "# Create the tree given in the above diagram \n",
    "bst.insert(20)\n",
    "bst.insert(9)\n",
    "bst.insert(25)\n",
    "bst.insert(5)\n",
    "bst.insert(12)\n",
    "bst.insert(11)  \n",
    "bst.insert(14)\n",
    "\n",
    "\n",
    "\n",
    "#result = bst.find_largest_smaller_key(bst.root, 17)\n",
    "#buffer = bst.in_order_traversal(bst.root)\n",
    "#print (buffer)\n",
    "#print (\"Largest smaller number is %d \" %(result))"
   ]
  },
  {
   "cell_type": "markdown",
   "metadata": {},
   "source": [
    "## In-order "
   ]
  },
  {
   "cell_type": "code",
   "execution_count": 51,
   "metadata": {},
   "outputs": [],
   "source": [
    "def in_order(root):\n",
    "    if root is not None:\n",
    "        in_order(root.left)\n",
    "        print (root.key)\n",
    "        in_order(root.right)\n",
    "    return None"
   ]
  },
  {
   "cell_type": "code",
   "execution_count": 52,
   "metadata": {},
   "outputs": [],
   "source": [
    "def in_order_to_list(root, output=[]):\n",
    "    if root is not None:\n",
    "        in_order_to_list(root.left, output)\n",
    "        output.append(root.key)\n",
    "        in_order_to_list(root.right, output)\n",
    "    return output"
   ]
  },
  {
   "cell_type": "code",
   "execution_count": 53,
   "metadata": {},
   "outputs": [],
   "source": [
    "def bruteforce(root, number):\n",
    "    keys = in_order_to_list(root)\n",
    "    print (keys)"
   ]
  },
  {
   "cell_type": "markdown",
   "metadata": {},
   "source": [
    "## Test for in-order traversal"
   ]
  },
  {
   "cell_type": "code",
   "execution_count": 54,
   "metadata": {},
   "outputs": [
    {
     "name": "stdout",
     "output_type": "stream",
     "text": [
      "5\n",
      "9\n",
      "11\n",
      "12\n",
      "14\n",
      "20\n",
      "25\n"
     ]
    }
   ],
   "source": [
    "in_order(bst.root)"
   ]
  },
  {
   "cell_type": "code",
   "execution_count": 55,
   "metadata": {},
   "outputs": [],
   "source": [
    "result = in_order_to_list(bst.root)"
   ]
  },
  {
   "cell_type": "code",
   "execution_count": 56,
   "metadata": {},
   "outputs": [
    {
     "name": "stdout",
     "output_type": "stream",
     "text": [
      "[5, 9, 11, 12, 14, 20, 25]\n"
     ]
    }
   ],
   "source": [
    "print (result)"
   ]
  },
  {
   "cell_type": "code",
   "execution_count": 57,
   "metadata": {},
   "outputs": [
    {
     "name": "stdout",
     "output_type": "stream",
     "text": [
      "[5, 9, 11, 12, 14, 20, 25]\n"
     ]
    }
   ],
   "source": [
    "result_in_order_method = bst.in_order_traversal(bst.root)\n",
    "print (result_in_order_method)"
   ]
  },
  {
   "cell_type": "markdown",
   "metadata": {},
   "source": [
    "# Test for assignment "
   ]
  },
  {
   "cell_type": "code",
   "execution_count": 58,
   "metadata": {},
   "outputs": [
    {
     "name": "stdout",
     "output_type": "stream",
     "text": [
      "[5, 9, 11, 12, 14, 20, 25]\n",
      "size of tree: 7\n",
      "14\n"
     ]
    }
   ],
   "source": [
    "result = bst.find_largest_smaller_key(17)\n",
    "print (result)"
   ]
  },
  {
   "cell_type": "code",
   "execution_count": 59,
   "metadata": {},
   "outputs": [
    {
     "name": "stdout",
     "output_type": "stream",
     "text": [
      "14\n"
     ]
    }
   ],
   "source": [
    "result_fast = bst.find_editorial(17)\n",
    "print (result_fast)"
   ]
  },
  {
   "cell_type": "markdown",
   "metadata": {},
   "source": [
    "# Explanation"
   ]
  },
  {
   "cell_type": "markdown",
   "metadata": {},
   "source": [
    "Largest Smaller BST Key\n",
    "While the code to solve this question is pretty simple, it takes some understanding of binary search trees. There are two key parts for the algorithm.\n",
    "\n",
    "Part 1: traversing the tree\n",
    "\n",
    "A node in a binary search tree is larger than all keys in its left subtree and smaller than all keys i its right subtree. Starting from the root, for each node we choose its left or its right child as the next step, based on a comparison between that node’s key and num: If the current node holds a key smaller than num, we proceed to its right subtree looking for larger keys. Otherwise, we proceed to its left subtree looking for smaller keys.\n",
    "\n",
    "Part 2: finding the key\n",
    "\n",
    "During this iteration, when the current key is smaller than num, we store it as our result and keep looking for a larger key that is still smaller than num.\n",
    "\n",
    "It’s important to understand why we always store the last key without comparing it to the value stored beforehand. If we have stored a key before, then it means we have chosen to continue down the key’s right subtree. Therefore, all subsequent keys will be larger than any previously stored keys.\n",
    "\n",
    "Pseudocode:\n",
    "\n",
    "function findLargestSmallerKey(rootNode, num):\n",
    "    result = -1\n",
    "\n",
    "    while (rootNode != null):\n",
    "        if (rootNode.key < num):\n",
    "            result = rootNode.key\n",
    "            root = rootNode.right\n",
    "        else:\n",
    "            root = rootNode.left\n",
    "\n",
    "    return result\n",
    "Time Complexity: we scan the tree once from the root to the the leaves and do a constant number of actions for each node. if the tree is balanced the complexity is O(log(N)). Otherwise, it could be up to O(N).\n",
    "\n",
    "Space Complexity: throughout the entire algorithm we used only a constant amount of space, hence the space complexity is O(1).\n",
    "\n"
   ]
  },
  {
   "cell_type": "code",
   "execution_count": null,
   "metadata": {},
   "outputs": [],
   "source": []
  }
 ],
 "metadata": {
  "kernelspec": {
   "display_name": "Python 3",
   "language": "python",
   "name": "python3"
  },
  "language_info": {
   "codemirror_mode": {
    "name": "ipython",
    "version": 3
   },
   "file_extension": ".py",
   "mimetype": "text/x-python",
   "name": "python",
   "nbconvert_exporter": "python",
   "pygments_lexer": "ipython3",
   "version": "3.5.4"
  }
 },
 "nbformat": 4,
 "nbformat_minor": 2
}
