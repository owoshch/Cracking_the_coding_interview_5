{
 "cells": [
  {
   "cell_type": "markdown",
   "metadata": {},
   "source": [
    "# 4.2 Minimal tree"
   ]
  },
  {
   "cell_type": "raw",
   "metadata": {},
   "source": [
    "Minimal Tree: Given a sorted (increasing order) array with unique integer elements, write an algo- rithm to create a binary search tree with minimal height."
   ]
  },
  {
   "cell_type": "raw",
   "metadata": {},
   "source": [
    "1) Insert into the tree the middle element of the array\n",
    "2) Insert (into the left subtree) the left subarray elements\n",
    "3) Insert (into the right subree) the right subarray elements"
   ]
  },
  {
   "cell_type": "code",
   "execution_count": 1,
   "metadata": {},
   "outputs": [],
   "source": [
    "class Node:\n",
    "    def __init__(self, value):\n",
    "        self.left = None\n",
    "        self.right = None\n",
    "        self.data = value"
   ]
  },
  {
   "cell_type": "code",
   "execution_count": 2,
   "metadata": {},
   "outputs": [],
   "source": [
    "def CreateMimimalBST(arr):\n",
    "    return CreateMinimalBSTHelper(arr, 0, len(arr) - 1)"
   ]
  },
  {
   "cell_type": "code",
   "execution_count": 8,
   "metadata": {},
   "outputs": [],
   "source": [
    "def CreateMinimalBSTHelper(arr, start, end):\n",
    "    if start > end:\n",
    "        return None\n",
    "    mid_index = (start + end) // 2\n",
    "    node = Node(arr[mid_index])\n",
    "    node.left = CreateMinimalBSTHelper(arr, start, mid_index - 1)\n",
    "    node.right = CreateMinimalBSTHelper(arr, mid_index + 1, end)\n",
    "    return node"
   ]
  },
  {
   "cell_type": "markdown",
   "metadata": {},
   "source": [
    "## Test"
   ]
  },
  {
   "cell_type": "code",
   "execution_count": 9,
   "metadata": {},
   "outputs": [],
   "source": [
    "def BFS(root):\n",
    "    queue = []\n",
    "    queue.append(root)\n",
    "    print ('root: ', root.data)\n",
    "    while len(queue):\n",
    "        cur_node = queue.pop(0)\n",
    "        for node in [cur_node.left, cur_node.right]:\n",
    "            if node is not None:\n",
    "                queue.append(node)\n",
    "                print (node.data, 'is a ch')\n",
    "        #queue.append(cur_node.left)\n",
    "        #print (cur_node.left.data)\n",
    "        #queue.append(cur_node.right)\n",
    "        #print (cur_node.right.data)"
   ]
  },
  {
   "cell_type": "code",
   "execution_count": 10,
   "metadata": {},
   "outputs": [],
   "source": [
    "root = CreateMimimalBST([1, 2, 3])"
   ]
  },
  {
   "cell_type": "code",
   "execution_count": 11,
   "metadata": {},
   "outputs": [
    {
     "name": "stdout",
     "output_type": "stream",
     "text": [
      "2\n",
      "1\n",
      "3\n"
     ]
    }
   ],
   "source": [
    "BFS(root)"
   ]
  },
  {
   "cell_type": "code",
   "execution_count": 12,
   "metadata": {},
   "outputs": [],
   "source": [
    "root = CreateMimimalBST([-1, 0, 1, 2, 3])"
   ]
  },
  {
   "cell_type": "code",
   "execution_count": 13,
   "metadata": {},
   "outputs": [
    {
     "name": "stdout",
     "output_type": "stream",
     "text": [
      "1\n",
      "-1\n",
      "2\n",
      "0\n",
      "3\n"
     ]
    }
   ],
   "source": [
    "BFS(root)"
   ]
  },
  {
   "cell_type": "code",
   "execution_count": null,
   "metadata": {},
   "outputs": [],
   "source": []
  }
 ],
 "metadata": {
  "kernelspec": {
   "display_name": "Python 3",
   "language": "python",
   "name": "python3"
  },
  "language_info": {
   "codemirror_mode": {
    "name": "ipython",
    "version": 3
   },
   "file_extension": ".py",
   "mimetype": "text/x-python",
   "name": "python",
   "nbconvert_exporter": "python",
   "pygments_lexer": "ipython3",
   "version": "3.5.4"
  }
 },
 "nbformat": 4,
 "nbformat_minor": 2
}
