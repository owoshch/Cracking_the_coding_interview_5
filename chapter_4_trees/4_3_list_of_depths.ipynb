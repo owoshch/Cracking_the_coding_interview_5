{
 "cells": [
  {
   "cell_type": "markdown",
   "metadata": {},
   "source": [
    "# 4.3 List of Depths"
   ]
  },
  {
   "cell_type": "raw",
   "metadata": {},
   "source": [
    "List of Depths: Given a binary tree, design an algorithm which creates a linked list of all the nodes at each depth (e.g., if you have a tree with depth D, you'll have Dlinked lists)."
   ]
  },
  {
   "cell_type": "markdown",
   "metadata": {},
   "source": [
    "## Solution 1. Modification of pre-order traversal.\n",
    "### We pass in level + 1 to the next recursive call"
   ]
  },
  {
   "cell_type": "code",
   "execution_count": 44,
   "metadata": {},
   "outputs": [],
   "source": [
    "class Node:\n",
    "    def __init__(self, value):\n",
    "        self.left = None\n",
    "        self.right = None\n",
    "        self.data = value"
   ]
  },
  {
   "cell_type": "code",
   "execution_count": 90,
   "metadata": {},
   "outputs": [],
   "source": [
    "class BinaryTree:\n",
    "    def create_node(self, value):\n",
    "        return Node(value)\n",
    "        \n",
    "    def insert(self, node, value):\n",
    "        if node is None:\n",
    "            return self.create_node(value)\n",
    "        if value < node.data:\n",
    "            node.left = self.insert(node.left, value)\n",
    "        else:\n",
    "            node.right = self.insert(node.right, value)\n",
    "        return node"
   ]
  },
  {
   "cell_type": "code",
   "execution_count": 105,
   "metadata": {},
   "outputs": [],
   "source": [
    "def BFS(root):\n",
    "    queue = []\n",
    "    queue.append(root)\n",
    "    print ('root: ', root.data)\n",
    "    while len(queue):\n",
    "        cur_node = queue.pop(0)\n",
    "        \"\"\"\n",
    "        for node in [cur_node.left, cur_node.right]:\n",
    "            if node is not None:\n",
    "                queue.append(node)\n",
    "                print (node.data, 'is a child of', cur_node.data)\n",
    "        \"\"\"\n",
    "        if cur_node.left is not None:\n",
    "            queue.append(cur_node.left)\n",
    "            print (cur_node.left.data, 'is a left child of', cur_node.data)\n",
    "        if cur_node.right is not None:\n",
    "            queue.append(cur_node.right)\n",
    "            print (cur_node.right.data, 'is a right child of', cur_node.data)"
   ]
  },
  {
   "cell_type": "markdown",
   "metadata": {},
   "source": [
    "# Editorial solution 1"
   ]
  },
  {
   "cell_type": "code",
   "execution_count": 112,
   "metadata": {},
   "outputs": [],
   "source": [
    "def CreateLevelList(root, lists, level):\n",
    "    if root == None:\n",
    "        return\n",
    "    if (len(lists) == level):\n",
    "        lists.append([])\n",
    "    lists[level].append(root)\n",
    "    CreateLevelList(root.left, lists, level+1)\n",
    "    CreateLevelList(root.right, lists, level+1)"
   ]
  },
  {
   "cell_type": "code",
   "execution_count": 113,
   "metadata": {},
   "outputs": [],
   "source": [
    "def CreateList(root):\n",
    "    lists = []\n",
    "    CreateLevelList(root, lists, 0)\n",
    "    return lists"
   ]
  },
  {
   "cell_type": "markdown",
   "metadata": {},
   "source": [
    "## Test"
   ]
  },
  {
   "cell_type": "code",
   "execution_count": 114,
   "metadata": {},
   "outputs": [],
   "source": [
    "root = None"
   ]
  },
  {
   "cell_type": "code",
   "execution_count": 115,
   "metadata": {},
   "outputs": [],
   "source": [
    "tree = BinaryTree()"
   ]
  },
  {
   "cell_type": "code",
   "execution_count": 116,
   "metadata": {},
   "outputs": [],
   "source": [
    "root = tree.insert(root, 0)"
   ]
  },
  {
   "cell_type": "code",
   "execution_count": 117,
   "metadata": {},
   "outputs": [
    {
     "name": "stdout",
     "output_type": "stream",
     "text": [
      "root:  0\n"
     ]
    }
   ],
   "source": [
    "BFS(root)"
   ]
  },
  {
   "cell_type": "code",
   "execution_count": 118,
   "metadata": {},
   "outputs": [
    {
     "data": {
      "text/plain": [
       "<__main__.Node at 0x10329ad30>"
      ]
     },
     "execution_count": 118,
     "metadata": {},
     "output_type": "execute_result"
    }
   ],
   "source": [
    "tree.insert(root, -1)\n",
    "tree.insert(root, 1)\n",
    "tree.insert(root, -2)\n",
    "tree.insert(root, 3)\n",
    "tree.insert(root, 4)\n",
    "tree.insert(root, 2)"
   ]
  },
  {
   "cell_type": "code",
   "execution_count": 120,
   "metadata": {},
   "outputs": [
    {
     "name": "stdout",
     "output_type": "stream",
     "text": [
      "root:  0\n",
      "-1 is a left child of 0\n",
      "1 is a right child of 0\n",
      "-2 is a left child of -1\n",
      "3 is a right child of 1\n",
      "2 is a left child of 3\n",
      "4 is a right child of 3\n"
     ]
    }
   ],
   "source": [
    "BFS(root)"
   ]
  },
  {
   "cell_type": "code",
   "execution_count": 127,
   "metadata": {},
   "outputs": [
    {
     "name": "stdout",
     "output_type": "stream",
     "text": [
      "0 0\n",
      "1 -1\n",
      "1 1\n",
      "2 -2\n",
      "2 3\n",
      "3 2\n",
      "3 4\n"
     ]
    }
   ],
   "source": [
    "for i, cur_list in zip(range(len(CreateList(root))), CreateList(root)):\n",
    "    for node in cur_list:\n",
    "        print (i, '', node.data)"
   ]
  },
  {
   "cell_type": "code",
   "execution_count": null,
   "metadata": {},
   "outputs": [],
   "source": []
  }
 ],
 "metadata": {
  "kernelspec": {
   "display_name": "Python 3",
   "language": "python",
   "name": "python3"
  },
  "language_info": {
   "codemirror_mode": {
    "name": "ipython",
    "version": 3
   },
   "file_extension": ".py",
   "mimetype": "text/x-python",
   "name": "python",
   "nbconvert_exporter": "python",
   "pygments_lexer": "ipython3",
   "version": "3.5.4"
  }
 },
 "nbformat": 4,
 "nbformat_minor": 2
}
