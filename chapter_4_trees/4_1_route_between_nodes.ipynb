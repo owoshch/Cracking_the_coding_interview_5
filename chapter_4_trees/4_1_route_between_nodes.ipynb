{
 "cells": [
  {
   "cell_type": "markdown",
   "metadata": {},
   "source": [
    "#### Route Between Nodes: \n",
    "    Given a directed graph, design an algorithm to find out whether there is a route between two nodes."
   ]
  },
  {
   "cell_type": "markdown",
   "metadata": {},
   "source": [
    "## Given a directed graph"
   ]
  },
  {
   "cell_type": "code",
   "execution_count": null,
   "metadata": {},
   "outputs": [],
   "source": [
    "from IPython.display"
   ]
  },
  {
   "cell_type": "code",
   "execution_count": 3,
   "metadata": {},
   "outputs": [],
   "source": [
    "initial = [(0, 1), (0, 4), (0, 5), (1, 3), (2, 1), (3, 2), (3, 4)]"
   ]
  },
  {
   "cell_type": "code",
   "execution_count": 10,
   "metadata": {},
   "outputs": [],
   "source": [
    "def construct_adjacency_list(pairs):\n",
    "    adj_list = {}\n",
    "    for pair in pairs:\n",
    "        try:\n",
    "            adj_list[pair[0]].append(pair[1])\n",
    "        except KeyError:\n",
    "            adj_list[pair[0]] = [pair[1]]\n",
    "        try:\n",
    "            adj_list[pair[1]]\n",
    "        except KeyError:\n",
    "            adj_list[pair[1]] = []\n",
    "    return adj_list"
   ]
  },
  {
   "cell_type": "code",
   "execution_count": 11,
   "metadata": {},
   "outputs": [],
   "source": [
    "test_graph = construct_adjacency_list(initial)"
   ]
  },
  {
   "cell_type": "code",
   "execution_count": 12,
   "metadata": {},
   "outputs": [
    {
     "name": "stdout",
     "output_type": "stream",
     "text": [
      "{0: [1, 4, 5], 1: [3], 2: [1], 3: [2, 4], 4: [], 5: []}\n"
     ]
    }
   ],
   "source": [
    "print (test_graph)"
   ]
  },
  {
   "cell_type": "code",
   "execution_count": 13,
   "metadata": {},
   "outputs": [],
   "source": [
    "def IsPath(adj_list, first_node, second_node, visited = []):\n",
    "    if first_node == second_node:\n",
    "        return True\n",
    "    queue = []\n",
    "    visited.append(first_node)\n",
    "    queue.append(first_node)\n",
    "    while len(queue): #while not queue.Empty()\n",
    "        cur_node = queue.pop(0)\n",
    "        for node in adj_list[cur_node]:\n",
    "            if node == second_node:\n",
    "                return True\n",
    "            if node not in visited:\n",
    "                queue.append(node)\n",
    "                visited.append(node)\n",
    "    return False"
   ]
  },
  {
   "cell_type": "code",
   "execution_count": 14,
   "metadata": {},
   "outputs": [
    {
     "data": {
      "text/plain": [
       "True"
      ]
     },
     "execution_count": 14,
     "metadata": {},
     "output_type": "execute_result"
    }
   ],
   "source": [
    "IsPath(test_graph, 1, 4)"
   ]
  },
  {
   "cell_type": "code",
   "execution_count": null,
   "metadata": {},
   "outputs": [],
   "source": []
  }
 ],
 "metadata": {
  "kernelspec": {
   "display_name": "Python 3",
   "language": "python",
   "name": "python3"
  },
  "language_info": {
   "codemirror_mode": {
    "name": "ipython",
    "version": 3
   },
   "file_extension": ".py",
   "mimetype": "text/x-python",
   "name": "python",
   "nbconvert_exporter": "python",
   "pygments_lexer": "ipython3",
   "version": "3.5.4"
  }
 },
 "nbformat": 4,
 "nbformat_minor": 2
}
